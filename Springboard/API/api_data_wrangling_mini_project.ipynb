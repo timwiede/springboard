{
 "cells": [
  {
   "cell_type": "code",
   "execution_count": null,
   "metadata": {},
   "outputs": [],
   "source": []
  },
  {
   "cell_type": "markdown",
   "metadata": {},
   "source": [
    "This exercise will require you to pull some data from the Quandl API. Quandl is currently the most widely used aggregator of financial market data."
   ]
  },
  {
   "cell_type": "markdown",
   "metadata": {},
   "source": [
    "As a first step, you will need to register a free account on the http://www.quandl.com website."
   ]
  },
  {
   "cell_type": "markdown",
   "metadata": {},
   "source": [
    "After you register, you will be provided with a unique API key, that you should store:"
   ]
  },
  {
   "cell_type": "code",
   "execution_count": 3,
   "metadata": {},
   "outputs": [],
   "source": [
    "# Store the API key as a string - according to PEP8, constants are always named in all upper case\n",
    "API_KEY = 'hHBSNz_x5-zzyJwm54rR'\n",
    "\n"
   ]
  },
  {
   "cell_type": "markdown",
   "metadata": {},
   "source": [
    "Qaundl has a large number of data sources, but, unfortunately, most of them require a Premium subscription. Still, there are also a good number of free datasets."
   ]
  },
  {
   "cell_type": "markdown",
   "metadata": {},
   "source": [
    "For this mini project, we will focus on equities data from the Frankfurt Stock Exhange (FSE), which is available for free. We'll try and analyze the stock prices of a company called Carl Zeiss Meditec, which manufactures tools for eye examinations, as well as medical lasers for laser eye surgery: https://www.zeiss.com/meditec/int/home.html. The company is listed under the stock ticker AFX_X."
   ]
  },
  {
   "cell_type": "markdown",
   "metadata": {},
   "source": [
    "You can find the detailed Quandl API instructions here: https://docs.quandl.com/docs/time-series"
   ]
  },
  {
   "cell_type": "markdown",
   "metadata": {},
   "source": [
    "While there is a dedicated Python package for connecting to the Quandl API, we would prefer that you use the *requests* package, which can be easily downloaded using *pip* or *conda*. You can find the documentation for the package here: http://docs.python-requests.org/en/master/ "
   ]
  },
  {
   "cell_type": "markdown",
   "metadata": {},
   "source": [
    "Finally, apart from the *requests* package, you are encouraged to not use any third party Python packages, such as *pandas*, and instead focus on what's available in the Python Standard Library (the *collections* module might come in handy: https://pymotw.com/3/collections/ ).\n",
    "Also, since you won't have access to DataFrames, you are encouraged to us Python's native data structures - preferably dictionaries, though some questions can also be answered using lists.\n",
    "You can read more on these data structures here: https://docs.python.org/3/tutorial/datastructures.html"
   ]
  },
  {
   "cell_type": "markdown",
   "metadata": {},
   "source": [
    "Keep in mind that the JSON responses you will be getting from the API map almost one-to-one to Python's dictionaries. Unfortunately, they can be very nested, so make sure you read up on indexing dictionaries in the documentation provided above."
   ]
  },
  {
   "cell_type": "code",
   "execution_count": 1,
   "metadata": {},
   "outputs": [],
   "source": [
    "# First, import the relevant modules\n",
    "import requests\n"
   ]
  },
  {
   "cell_type": "code",
   "execution_count": 34,
   "metadata": {},
   "outputs": [
    {
     "name": "stdout",
     "output_type": "stream",
     "text": [
      "id :  10095370\n",
      "dataset_code :  AFX_X\n",
      "database_code :  FSE\n",
      "name :  Carl Zeiss Meditec (AFX_X)\n",
      "description :  Stock Prices for Carl Zeiss Meditec (AFX) from the Frankfurt Stock Exchange.<br><br>Trading System: Xetra<br><br>ISIN: DE0005313704\n",
      "refreshed_at :  2019-06-07T22:30:31.407Z\n",
      "newest_available_date :  2019-06-07\n",
      "oldest_available_date :  2000-06-07\n",
      "column_names :  ['Date', 'Open', 'High', 'Low', 'Close', 'Change', 'Traded Volume', 'Turnover', 'Last Price of the Day', 'Daily Traded Units', 'Daily Turnover']\n",
      "frequency :  daily\n",
      "type :  Time Series\n",
      "premium :  False\n",
      "limit :  None\n",
      "transform :  None\n",
      "column_index :  None\n",
      "start_date :  2019-06-07\n",
      "end_date :  2019-06-07\n",
      "data :  [['2019-06-07', None, 87.2, 85.45, 86.95, None, 138663.0, 12010778.0, None, None, None]]\n",
      "collapse :  None\n",
      "order :  None\n",
      "database_id :  6129\n"
     ]
    }
   ],
   "source": [
    "# Now, call the Quandl API and pull out a small sample of the data (only one day) to get a glimpse\n",
    "# into the JSON structure that will be returned\n",
    "\n",
    "req1=requests.get(\"https://www.quandl.com/api/v3/datasets/FSE/AFX_X?start_date=2019-06-07&end_date=2019-06-07&api_key=\"\n",
    "                   +API_KEY, \n",
    "                )\n",
    "\n",
    "json=req1.json()\n",
    "for key in json['dataset']:\n",
    "    print(key,': ',json['dataset'][key])\n"
   ]
  },
  {
   "cell_type": "code",
   "execution_count": 35,
   "metadata": {},
   "outputs": [
    {
     "name": "stdout",
     "output_type": "stream",
     "text": [
      "id :  10095370\n",
      "dataset_code :  AFX_X\n",
      "database_code :  FSE\n",
      "name :  Carl Zeiss Meditec (AFX_X)\n",
      "description :  Stock Prices for Carl Zeiss Meditec (AFX) from the Frankfurt Stock Exchange.<br><br>Trading System: Xetra<br><br>ISIN: DE0005313704\n",
      "refreshed_at :  2019-06-07T22:30:31.407Z\n",
      "newest_available_date :  2019-06-07\n",
      "oldest_available_date :  2000-06-07\n",
      "column_names :  ['Date', 'Open', 'High', 'Low', 'Close', 'Change', 'Traded Volume', 'Turnover', 'Last Price of the Day', 'Daily Traded Units', 'Daily Turnover']\n",
      "frequency :  daily\n",
      "type :  Time Series\n",
      "premium :  False\n",
      "limit :  None\n",
      "transform :  None\n",
      "column_index :  None\n",
      "start_date :  2019-06-01\n",
      "end_date :  2019-06-07\n",
      "data :  [['2019-06-07', None, 87.2, 85.45, 86.95, None, 138663.0, 12010778.0, None, None, None], ['2019-06-06', None, 86.05, 85.0, 85.5, None, 141747.0, 12126871.0, None, None, None], ['2019-06-05', None, 86.0, 83.6, 85.85, None, 196908.0, 16831752.0, None, None, None], ['2019-06-04', None, 84.05, 81.95, 83.8, None, 194026.0, 16189447.0, None, None, None], ['2019-06-03', None, 84.6, 83.15, 84.6, None, 211906.0, 17831665.0, None, None, None]]\n",
      "collapse :  None\n",
      "order :  None\n",
      "database_id :  6129\n"
     ]
    }
   ],
   "source": [
    "# Inspect the JSON structure of the object you created, and take note of how nested it is,\n",
    "# as well as the overall structure\n",
    "\n",
    "req1=requests.get(\"https://www.quandl.com/api/v3/datasets/FSE/AFX_X?start_date=2019-06-01&end_date=2019-06-07&api_key=\"\n",
    "                   +API_KEY, \n",
    "                )\n",
    "\n",
    "json=req1.json()\n",
    "for key in json['dataset']:\n",
    "    print(key,': ',json['dataset'][key])"
   ]
  },
  {
   "cell_type": "markdown",
   "metadata": {},
   "source": [
    "These are your tasks for this mini project:\n",
    "\n",
    "1. Collect data from the Franfurt Stock Exchange, for the ticker AFX_X, for the whole year 2017 (keep in mind that the date format is YYYY-MM-DD).\n",
    "2. Convert the returned JSON object into a Python dictionary.\n",
    "3. Calculate what the highest and lowest opening prices were for the stock in this period.\n",
    "4. What was the largest change in any one day (based on High and Low price)?\n",
    "5. What was the largest change between any two days (based on Closing Price)?\n",
    "6. What was the average daily trading volume during this year?\n",
    "7. (Optional) What was the median trading volume during this year. (Note: you may need to implement your own function for calculating the median.)"
   ]
  },
  {
   "cell_type": "markdown",
   "metadata": {
    "collapsed": true
   },
   "source": [
    "#### Question 1"
   ]
  },
  {
   "cell_type": "code",
   "execution_count": 42,
   "metadata": {},
   "outputs": [],
   "source": [
    "#pretty basic use of requests.get()\n",
    "req2=requests.get(\"https://www.quandl.com/api/v3/datasets/FSE/AFX_X?start_date=2017-01-01&end_date=2017-12-31&api_key=\"\n",
    "                   +API_KEY, \n",
    "                )\n",
    "\n",
    "json=req2.json()"
   ]
  },
  {
   "cell_type": "markdown",
   "metadata": {},
   "source": [
    "#### Question 2"
   ]
  },
  {
   "cell_type": "code",
   "execution_count": 47,
   "metadata": {},
   "outputs": [],
   "source": [
    "#convert to dictionary\n",
    "dict_data=dict(json)"
   ]
  },
  {
   "cell_type": "markdown",
   "metadata": {},
   "source": [
    "#### Question 3"
   ]
  },
  {
   "cell_type": "code",
   "execution_count": 74,
   "metadata": {},
   "outputs": [
    {
     "name": "stdout",
     "output_type": "stream",
     "text": [
      "Maximum opening price:  53.11\n",
      "Minimum opening price:  34.0\n"
     ]
    }
   ],
   "source": [
    "#I'm using a list comprehension here both to extract the opening prices from the list of lists and also to remove None values\n",
    "opening_prices=[date[1] for date in dict_data['dataset']['data'] if date[1]]\n",
    "\n",
    "max_open=max(opening_prices)\n",
    "min_open=min(opening_prices)\n",
    "print('Maximum opening price: ',max_open)\n",
    "print('Minimum opening price: ',min_open)"
   ]
  },
  {
   "cell_type": "markdown",
   "metadata": {},
   "source": [
    "#### Question 4"
   ]
  },
  {
   "cell_type": "code",
   "execution_count": 84,
   "metadata": {},
   "outputs": [
    {
     "name": "stdout",
     "output_type": "stream",
     "text": [
      "2.8100000000000023\n"
     ]
    }
   ],
   "source": [
    "#Using list comprehension to make a list of differences between each day's High and Low\n",
    "print('Largest change in any one day: ',max([date[2]-date[3] for date in dict_data['dataset']['data'] ]))"
   ]
  },
  {
   "cell_type": "markdown",
   "metadata": {},
   "source": [
    "#### Question 5"
   ]
  },
  {
   "cell_type": "code",
   "execution_count": 110,
   "metadata": {},
   "outputs": [
    {
     "name": "stdout",
     "output_type": "stream",
     "text": [
      "Largest difference between any two days:  19.03\n"
     ]
    }
   ],
   "source": [
    "#To find the largest difference between any two days, I'm going to take the max Closing price and subtract the min\n",
    "max_close=max([date[4] for date in dict_data['dataset']['data'] if date[4]])\n",
    "min_close=min([date[4] for date in dict_data['dataset']['data'] if date[4]])\n",
    "\n",
    "print('Largest change between any two days: ',max_close-min_close)"
   ]
  },
  {
   "cell_type": "markdown",
   "metadata": {},
   "source": [
    "#### Question 6"
   ]
  },
  {
   "cell_type": "code",
   "execution_count": 99,
   "metadata": {},
   "outputs": [
    {
     "name": "stdout",
     "output_type": "stream",
     "text": [
      "Average traded volume:  89124.33725490196\n"
     ]
    }
   ],
   "source": [
    "#Taking a list of the Traded Volume values, I can use sum() and len() to compute the avereage.\n",
    "t_v=[date[6] for date in dict_data['dataset']['data'] if date[6]]\n",
    "print('Average traded volume: ',sum(t_v)/len(t_v))"
   ]
  },
  {
   "cell_type": "markdown",
   "metadata": {},
   "source": [
    "#### Question 7"
   ]
  },
  {
   "cell_type": "code",
   "execution_count": 109,
   "metadata": {},
   "outputs": [
    {
     "name": "stdout",
     "output_type": "stream",
     "text": [
      "Median traded volume:  76286.0\n"
     ]
    }
   ],
   "source": [
    "#here's a quick function for computing the median. \n",
    "#Note that the median depends on if the list has an even or odd number of elements\n",
    "def median(l):\n",
    "    l=sorted(l)\n",
    "    if len(l)%2==0:\n",
    "        return (l[int(len(l)/2)]+l[int(len(l)/2)-1])/2.0\n",
    "    else:\n",
    "        return l[int(len(l)/2)]\n",
    "    \n",
    "print('Median traded volume: ',median(t_v))"
   ]
  }
 ],
 "metadata": {
  "kernelspec": {
   "display_name": "Python 3",
   "language": "python",
   "name": "python3"
  },
  "language_info": {
   "codemirror_mode": {
    "name": "ipython",
    "version": 3
   },
   "file_extension": ".py",
   "mimetype": "text/x-python",
   "name": "python",
   "nbconvert_exporter": "python",
   "pygments_lexer": "ipython3",
   "version": "3.7.1"
  }
 },
 "nbformat": 4,
 "nbformat_minor": 2
}
