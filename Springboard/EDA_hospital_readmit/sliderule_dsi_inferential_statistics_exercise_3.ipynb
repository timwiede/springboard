{
 "cells": [
  {
   "cell_type": "markdown",
   "metadata": {},
   "source": [
    "# Hospital Readmissions Data Analysis and Recommendations for Reduction\n",
    "\n",
    "### Background\n",
    "In October 2012, the US government's Center for Medicare and Medicaid Services (CMS) began reducing Medicare payments for Inpatient Prospective Payment System hospitals with excess readmissions. Excess readmissions are measured by a ratio, by dividing a hospital’s number of “predicted” 30-day readmissions for heart attack, heart failure, and pneumonia by the number that would be “expected,” based on an average hospital with similar patients. A ratio greater than 1 indicates excess readmissions.\n",
    "\n",
    "### Exercise Directions\n",
    "\n",
    "In this exercise, you will:\n",
    "+ critique a preliminary analysis of readmissions data and recommendations (provided below) for reducing the readmissions rate\n",
    "+ construct a statistically sound analysis and make recommendations of your own \n",
    "\n",
    "More instructions provided below. Include your work **in this notebook and submit to your Github account**. \n",
    "\n",
    "### Resources\n",
    "+ Data source: https://data.medicare.gov/Hospital-Compare/Hospital-Readmission-Reduction/9n3s-kdb3\n",
    "+ More information: http://www.cms.gov/Medicare/medicare-fee-for-service-payment/acuteinpatientPPS/readmissions-reduction-program.html\n",
    "+ Markdown syntax: http://nestacms.com/docs/creating-content/markdown-cheat-sheet\n",
    "****"
   ]
  },
  {
   "cell_type": "code",
   "execution_count": 1,
   "metadata": {},
   "outputs": [],
   "source": [
    "%matplotlib inline\n",
    "\n",
    "import pandas as pd\n",
    "import numpy as np\n",
    "import matplotlib.pyplot as plt\n",
    "import bokeh.plotting as bkp\n",
    "from mpl_toolkits.axes_grid1 import make_axes_locatable"
   ]
  },
  {
   "cell_type": "code",
   "execution_count": 2,
   "metadata": {},
   "outputs": [],
   "source": [
    "# read in readmissions data provided\n",
    "hospital_read_df = pd.read_csv('data/cms_hospital_readmissions.csv')"
   ]
  },
  {
   "cell_type": "code",
   "execution_count": 3,
   "metadata": {},
   "outputs": [
    {
     "data": {
      "text/html": [
       "<div>\n",
       "<style scoped>\n",
       "    .dataframe tbody tr th:only-of-type {\n",
       "        vertical-align: middle;\n",
       "    }\n",
       "\n",
       "    .dataframe tbody tr th {\n",
       "        vertical-align: top;\n",
       "    }\n",
       "\n",
       "    .dataframe thead th {\n",
       "        text-align: right;\n",
       "    }\n",
       "</style>\n",
       "<table border=\"1\" class=\"dataframe\">\n",
       "  <thead>\n",
       "    <tr style=\"text-align: right;\">\n",
       "      <th></th>\n",
       "      <th>Hospital Name</th>\n",
       "      <th>Provider Number</th>\n",
       "      <th>State</th>\n",
       "      <th>Measure Name</th>\n",
       "      <th>Number of Discharges</th>\n",
       "      <th>Footnote</th>\n",
       "      <th>Excess Readmission Ratio</th>\n",
       "      <th>Predicted Readmission Rate</th>\n",
       "      <th>Expected Readmission Rate</th>\n",
       "      <th>Number of Readmissions</th>\n",
       "      <th>Start Date</th>\n",
       "      <th>End Date</th>\n",
       "    </tr>\n",
       "  </thead>\n",
       "  <tbody>\n",
       "    <tr>\n",
       "      <th>0</th>\n",
       "      <td>FROEDTERT MEMORIAL LUTHERAN HOSPITAL</td>\n",
       "      <td>520177</td>\n",
       "      <td>WI</td>\n",
       "      <td>READM-30-HIP-KNEE-HRRP</td>\n",
       "      <td>242</td>\n",
       "      <td>NaN</td>\n",
       "      <td>1.9095</td>\n",
       "      <td>10.8</td>\n",
       "      <td>5.6</td>\n",
       "      <td>38.0</td>\n",
       "      <td>07/01/2010</td>\n",
       "      <td>06/30/2013</td>\n",
       "    </tr>\n",
       "    <tr>\n",
       "      <th>1</th>\n",
       "      <td>PROVIDENCE HOSPITAL</td>\n",
       "      <td>90006</td>\n",
       "      <td>DC</td>\n",
       "      <td>READM-30-HIP-KNEE-HRRP</td>\n",
       "      <td>247</td>\n",
       "      <td>NaN</td>\n",
       "      <td>1.7521</td>\n",
       "      <td>9.2</td>\n",
       "      <td>5.3</td>\n",
       "      <td>33.0</td>\n",
       "      <td>07/01/2010</td>\n",
       "      <td>06/30/2013</td>\n",
       "    </tr>\n",
       "    <tr>\n",
       "      <th>2</th>\n",
       "      <td>BEAUFORT COUNTY MEMORIAL HOSPITAL</td>\n",
       "      <td>420067</td>\n",
       "      <td>SC</td>\n",
       "      <td>READM-30-HIP-KNEE-HRRP</td>\n",
       "      <td>586</td>\n",
       "      <td>NaN</td>\n",
       "      <td>1.5836</td>\n",
       "      <td>7.6</td>\n",
       "      <td>4.8</td>\n",
       "      <td>53.0</td>\n",
       "      <td>07/01/2010</td>\n",
       "      <td>06/30/2013</td>\n",
       "    </tr>\n",
       "    <tr>\n",
       "      <th>3</th>\n",
       "      <td>ADVOCATE CHRIST HOSPITAL &amp; MEDICAL CENTER</td>\n",
       "      <td>140208</td>\n",
       "      <td>IL</td>\n",
       "      <td>READM-30-HIP-KNEE-HRRP</td>\n",
       "      <td>965</td>\n",
       "      <td>NaN</td>\n",
       "      <td>1.5760</td>\n",
       "      <td>9.0</td>\n",
       "      <td>5.7</td>\n",
       "      <td>95.0</td>\n",
       "      <td>07/01/2010</td>\n",
       "      <td>06/30/2013</td>\n",
       "    </tr>\n",
       "    <tr>\n",
       "      <th>4</th>\n",
       "      <td>BRAZOSPORT REGIONAL HEALTH SYSTEM</td>\n",
       "      <td>450072</td>\n",
       "      <td>TX</td>\n",
       "      <td>READM-30-HIP-KNEE-HRRP</td>\n",
       "      <td>149</td>\n",
       "      <td>NaN</td>\n",
       "      <td>1.5308</td>\n",
       "      <td>8.2</td>\n",
       "      <td>5.4</td>\n",
       "      <td>20.0</td>\n",
       "      <td>07/01/2010</td>\n",
       "      <td>06/30/2013</td>\n",
       "    </tr>\n",
       "  </tbody>\n",
       "</table>\n",
       "</div>"
      ],
      "text/plain": [
       "                               Hospital Name  Provider Number State  \\\n",
       "0       FROEDTERT MEMORIAL LUTHERAN HOSPITAL           520177    WI   \n",
       "1                        PROVIDENCE HOSPITAL            90006    DC   \n",
       "2          BEAUFORT COUNTY MEMORIAL HOSPITAL           420067    SC   \n",
       "3  ADVOCATE CHRIST HOSPITAL & MEDICAL CENTER           140208    IL   \n",
       "4          BRAZOSPORT REGIONAL HEALTH SYSTEM           450072    TX   \n",
       "\n",
       "             Measure Name Number of Discharges  Footnote  \\\n",
       "0  READM-30-HIP-KNEE-HRRP                  242       NaN   \n",
       "1  READM-30-HIP-KNEE-HRRP                  247       NaN   \n",
       "2  READM-30-HIP-KNEE-HRRP                  586       NaN   \n",
       "3  READM-30-HIP-KNEE-HRRP                  965       NaN   \n",
       "4  READM-30-HIP-KNEE-HRRP                  149       NaN   \n",
       "\n",
       "   Excess Readmission Ratio  Predicted Readmission Rate  \\\n",
       "0                    1.9095                        10.8   \n",
       "1                    1.7521                         9.2   \n",
       "2                    1.5836                         7.6   \n",
       "3                    1.5760                         9.0   \n",
       "4                    1.5308                         8.2   \n",
       "\n",
       "   Expected Readmission Rate  Number of Readmissions  Start Date    End Date  \n",
       "0                        5.6                    38.0  07/01/2010  06/30/2013  \n",
       "1                        5.3                    33.0  07/01/2010  06/30/2013  \n",
       "2                        4.8                    53.0  07/01/2010  06/30/2013  \n",
       "3                        5.7                    95.0  07/01/2010  06/30/2013  \n",
       "4                        5.4                    20.0  07/01/2010  06/30/2013  "
      ]
     },
     "execution_count": 3,
     "metadata": {},
     "output_type": "execute_result"
    }
   ],
   "source": [
    "hospital_read_df.head()"
   ]
  },
  {
   "cell_type": "code",
   "execution_count": 4,
   "metadata": {},
   "outputs": [
    {
     "name": "stdout",
     "output_type": "stream",
     "text": [
      "<class 'pandas.core.frame.DataFrame'>\n",
      "RangeIndex: 16860 entries, 0 to 16859\n",
      "Data columns (total 12 columns):\n",
      "Hospital Name                 16860 non-null object\n",
      "Provider Number               16860 non-null int64\n",
      "State                         16860 non-null object\n",
      "Measure Name                  16860 non-null object\n",
      "Number of Discharges          16860 non-null object\n",
      "Footnote                      3129 non-null float64\n",
      "Excess Readmission Ratio      13731 non-null float64\n",
      "Predicted Readmission Rate    13731 non-null float64\n",
      "Expected Readmission Rate     13731 non-null float64\n",
      "Number of Readmissions        11497 non-null float64\n",
      "Start Date                    16860 non-null object\n",
      "End Date                      16860 non-null object\n",
      "dtypes: float64(5), int64(1), object(6)\n",
      "memory usage: 1.5+ MB\n"
     ]
    }
   ],
   "source": [
    "hospital_read_df.info()"
   ]
  },
  {
   "cell_type": "markdown",
   "metadata": {},
   "source": [
    "****\n",
    "## Preliminary Analysis"
   ]
  },
  {
   "cell_type": "code",
   "execution_count": 5,
   "metadata": {},
   "outputs": [
    {
     "name": "stderr",
     "output_type": "stream",
     "text": [
      "C:\\Users\\Tim\\Anaconda3\\lib\\site-packages\\pandas\\core\\indexing.py:543: SettingWithCopyWarning: \n",
      "A value is trying to be set on a copy of a slice from a DataFrame.\n",
      "Try using .loc[row_indexer,col_indexer] = value instead\n",
      "\n",
      "See the caveats in the documentation: http://pandas.pydata.org/pandas-docs/stable/indexing.html#indexing-view-versus-copy\n",
      "  self.obj[item] = s\n"
     ]
    }
   ],
   "source": [
    "# deal with missing and inconvenient portions of data \n",
    "clean_hospital_read_df = hospital_read_df[hospital_read_df['Number of Discharges'] != 'Not Available']\n",
    "clean_hospital_read_df.loc[:, 'Number of Discharges'] = clean_hospital_read_df['Number of Discharges'].astype(int)\n",
    "clean_hospital_read_df = clean_hospital_read_df.sort_values('Number of Discharges')"
   ]
  },
  {
   "cell_type": "code",
   "execution_count": 6,
   "metadata": {},
   "outputs": [],
   "source": [
    "clean_hospital_read_df\n",
    "\n",
    "clean_hospital_read_df = clean_hospital_read_df[~np.isnan(clean_hospital_read_df['Excess Readmission Ratio'])]"
   ]
  },
  {
   "cell_type": "code",
   "execution_count": 7,
   "metadata": {},
   "outputs": [
    {
     "data": {
      "text/html": [
       "<div>\n",
       "<style scoped>\n",
       "    .dataframe tbody tr th:only-of-type {\n",
       "        vertical-align: middle;\n",
       "    }\n",
       "\n",
       "    .dataframe tbody tr th {\n",
       "        vertical-align: top;\n",
       "    }\n",
       "\n",
       "    .dataframe thead th {\n",
       "        text-align: right;\n",
       "    }\n",
       "</style>\n",
       "<table border=\"1\" class=\"dataframe\">\n",
       "  <thead>\n",
       "    <tr style=\"text-align: right;\">\n",
       "      <th></th>\n",
       "      <th>Hospital Name</th>\n",
       "      <th>Provider Number</th>\n",
       "      <th>State</th>\n",
       "      <th>Measure Name</th>\n",
       "      <th>Number of Discharges</th>\n",
       "      <th>Footnote</th>\n",
       "      <th>Excess Readmission Ratio</th>\n",
       "      <th>Predicted Readmission Rate</th>\n",
       "      <th>Expected Readmission Rate</th>\n",
       "      <th>Number of Readmissions</th>\n",
       "      <th>Start Date</th>\n",
       "      <th>End Date</th>\n",
       "    </tr>\n",
       "  </thead>\n",
       "  <tbody>\n",
       "    <tr>\n",
       "      <th>1832</th>\n",
       "      <td>UNIVERSITY OF MD CHARLES REGIONAL  MEDICAL CENTER</td>\n",
       "      <td>210035</td>\n",
       "      <td>MD</td>\n",
       "      <td>READM-30-AMI-HRRP</td>\n",
       "      <td>25</td>\n",
       "      <td>NaN</td>\n",
       "      <td>1.0914</td>\n",
       "      <td>26.8</td>\n",
       "      <td>24.6</td>\n",
       "      <td>12.0</td>\n",
       "      <td>07/01/2010</td>\n",
       "      <td>06/30/2013</td>\n",
       "    </tr>\n",
       "    <tr>\n",
       "      <th>1699</th>\n",
       "      <td>ATLANTIC GENERAL HOSPITAL</td>\n",
       "      <td>210061</td>\n",
       "      <td>MD</td>\n",
       "      <td>READM-30-AMI-HRRP</td>\n",
       "      <td>27</td>\n",
       "      <td>NaN</td>\n",
       "      <td>1.0961</td>\n",
       "      <td>24.8</td>\n",
       "      <td>22.6</td>\n",
       "      <td>12.0</td>\n",
       "      <td>07/01/2010</td>\n",
       "      <td>06/30/2013</td>\n",
       "    </tr>\n",
       "    <tr>\n",
       "      <th>1774</th>\n",
       "      <td>MERCY MEDICAL CENTER INC</td>\n",
       "      <td>210008</td>\n",
       "      <td>MD</td>\n",
       "      <td>READM-30-AMI-HRRP</td>\n",
       "      <td>28</td>\n",
       "      <td>NaN</td>\n",
       "      <td>1.0934</td>\n",
       "      <td>24.4</td>\n",
       "      <td>22.3</td>\n",
       "      <td>12.0</td>\n",
       "      <td>07/01/2010</td>\n",
       "      <td>06/30/2013</td>\n",
       "    </tr>\n",
       "    <tr>\n",
       "      <th>1853</th>\n",
       "      <td>KAISER FOUNDATION HOSPITAL-SANTA CLARA</td>\n",
       "      <td>50071</td>\n",
       "      <td>CA</td>\n",
       "      <td>READM-30-HF-HRRP</td>\n",
       "      <td>29</td>\n",
       "      <td>NaN</td>\n",
       "      <td>1.0908</td>\n",
       "      <td>21.0</td>\n",
       "      <td>19.3</td>\n",
       "      <td>11.0</td>\n",
       "      <td>07/01/2010</td>\n",
       "      <td>06/30/2013</td>\n",
       "    </tr>\n",
       "    <tr>\n",
       "      <th>1290</th>\n",
       "      <td>PALMERTON HOSPITAL</td>\n",
       "      <td>390019</td>\n",
       "      <td>PA</td>\n",
       "      <td>READM-30-AMI-HRRP</td>\n",
       "      <td>30</td>\n",
       "      <td>NaN</td>\n",
       "      <td>1.1123</td>\n",
       "      <td>23.2</td>\n",
       "      <td>20.9</td>\n",
       "      <td>13.0</td>\n",
       "      <td>07/01/2010</td>\n",
       "      <td>06/30/2013</td>\n",
       "    </tr>\n",
       "  </tbody>\n",
       "</table>\n",
       "</div>"
      ],
      "text/plain": [
       "                                          Hospital Name  Provider Number  \\\n",
       "1832  UNIVERSITY OF MD CHARLES REGIONAL  MEDICAL CENTER           210035   \n",
       "1699                          ATLANTIC GENERAL HOSPITAL           210061   \n",
       "1774                           MERCY MEDICAL CENTER INC           210008   \n",
       "1853             KAISER FOUNDATION HOSPITAL-SANTA CLARA            50071   \n",
       "1290                                 PALMERTON HOSPITAL           390019   \n",
       "\n",
       "     State       Measure Name  Number of Discharges  Footnote  \\\n",
       "1832    MD  READM-30-AMI-HRRP                    25       NaN   \n",
       "1699    MD  READM-30-AMI-HRRP                    27       NaN   \n",
       "1774    MD  READM-30-AMI-HRRP                    28       NaN   \n",
       "1853    CA   READM-30-HF-HRRP                    29       NaN   \n",
       "1290    PA  READM-30-AMI-HRRP                    30       NaN   \n",
       "\n",
       "      Excess Readmission Ratio  Predicted Readmission Rate  \\\n",
       "1832                    1.0914                        26.8   \n",
       "1699                    1.0961                        24.8   \n",
       "1774                    1.0934                        24.4   \n",
       "1853                    1.0908                        21.0   \n",
       "1290                    1.1123                        23.2   \n",
       "\n",
       "      Expected Readmission Rate  Number of Readmissions  Start Date  \\\n",
       "1832                       24.6                    12.0  07/01/2010   \n",
       "1699                       22.6                    12.0  07/01/2010   \n",
       "1774                       22.3                    12.0  07/01/2010   \n",
       "1853                       19.3                    11.0  07/01/2010   \n",
       "1290                       20.9                    13.0  07/01/2010   \n",
       "\n",
       "        End Date  \n",
       "1832  06/30/2013  \n",
       "1699  06/30/2013  \n",
       "1774  06/30/2013  \n",
       "1853  06/30/2013  \n",
       "1290  06/30/2013  "
      ]
     },
     "execution_count": 7,
     "metadata": {},
     "output_type": "execute_result"
    }
   ],
   "source": [
    "clean_hospital_read_df.head()"
   ]
  },
  {
   "cell_type": "code",
   "execution_count": 8,
   "metadata": {},
   "outputs": [
    {
     "data": {
      "image/png": "[encoded data removed]",
      "text/plain": [
       "<Figure size 576x360 with 1 Axes>"
      ]
     },
     "metadata": {
      "needs_background": "light"
     },
     "output_type": "display_data"
    }
   ],
   "source": [
    "# generate a scatterplot for number of discharges vs. excess rate of readmissions\n",
    "# lists work better with matplotlib scatterplot function\n",
    "x = [a for a in clean_hospital_read_df['Number of Discharges'][81:-3]]\n",
    "y = list(clean_hospital_read_df['Excess Readmission Ratio'][81:-3])\n",
    "\n",
    "fig, ax = plt.subplots(figsize=(8,5))\n",
    "ax.scatter(x, y,alpha=0.2)\n",
    "\n",
    "ax.fill_between([0,350], 1.15, 2, facecolor='red', alpha = .15, interpolate=True)\n",
    "ax.fill_between([800,2500], .5, .95, facecolor='green', alpha = .15, interpolate=True)\n",
    "\n",
    "ax.set_xlim([0, max(x)])\n",
    "ax.set_xlabel('Number of discharges', fontsize=12)\n",
    "ax.set_ylabel('Excess rate of readmissions', fontsize=12)\n",
    "ax.set_title('Scatterplot of number of discharges vs. excess rate of readmissions', fontsize=14)\n",
    "\n",
    "ax.grid(True)\n",
    "fig.tight_layout()"
   ]
  },
  {
   "cell_type": "markdown",
   "metadata": {},
   "source": [
    "****\n",
    "\n",
    "## Preliminary Report\n",
    "\n",
    "Read the following results/report. While you are reading it, think about if the conclusions are correct, incorrect, misleading or unfounded. Think about what you would change or what additional analyses you would perform.\n",
    "\n",
    "**A. Initial observations based on the plot above**\n",
    "+ Overall, rate of readmissions is trending down with increasing number of discharges\n",
    "+ With lower number of discharges, there is a greater incidence of excess rate of readmissions (area shaded red)\n",
    "+ With higher number of discharges, there is a greater incidence of lower rates of readmissions (area shaded green) \n",
    "\n",
    "**B. Statistics**\n",
    "+ In hospitals/facilities with number of discharges < 100, mean excess readmission rate is 1.023 and 63% have excess readmission rate greater than 1 \n",
    "+ In hospitals/facilities with number of discharges > 1000, mean excess readmission rate is 0.978 and 44% have excess readmission rate greater than 1 \n",
    "\n",
    "**C. Conclusions**\n",
    "+ There is a significant correlation between hospital capacity (number of discharges) and readmission rates. \n",
    "+ Smaller hospitals/facilities may be lacking necessary resources to ensure quality care and prevent complications that lead to readmissions.\n",
    "\n",
    "**D. Regulatory policy recommendations**\n",
    "+ Hospitals/facilties with small capacity (< 300) should be required to demonstrate upgraded resource allocation for quality care to continue operation.\n",
    "+ Directives and incentives should be provided for consolidation of hospitals and facilities to have a smaller number of them with higher capacity and number of discharges."
   ]
  },
  {
   "cell_type": "markdown",
   "metadata": {},
   "source": [
    "****\n",
    "### Exercise\n",
    "\n",
    "Include your work on the following **in this notebook and submit to your Github account**. \n",
    "\n",
    "A. Do you agree with the above analysis and recommendations? Why or why not?\n",
    "\n",
    "    The analysis is missing an actual hypothesis test. Just comparing the sample statistics should not be enough for a recommendation. Looking at the graph, it definitely seems like the the bulk of the low capacity values are distributed close to 1.0, just like for high-capacity hospitals. With a lower number of discharges, it seems reasonable that there would be more variance and therefore more outliers.\n",
    "    \n",
    "    Also, why only compare hospitals with less than 100 versus hospitals with more than 1000 discharges and then recommend policy based on whether the discharges are less than 300? There are a lot less hospitals with more than 1000 and that hurts the conclusion.\n",
    "   \n",
    "B. Provide support for your arguments and your own recommendations with a statistically sound analysis:\n",
    "\n",
    "   1. Setup an appropriate hypothesis test.\n",
    "   2. Compute and report the observed significance value (or p-value).\n",
    "   3. Report statistical significance for $\\alpha$ = .01. \n",
    "   4. Discuss statistical significance and practical significance. Do they differ here? How does this change your recommendation to the client?\n",
    "   5. Look at the scatterplot above. \n",
    "      - What are the advantages and disadvantages of using this plot to convey information?\n",
    "      - Construct another plot that conveys the same information in a more direct manner.\n",
    "\n",
    "\n",
    "\n",
    "You can compose in notebook cells using Markdown: \n",
    "+ In the control panel at the top, choose Cell > Cell Type > Markdown\n",
    "+ Markdown syntax: http://nestacms.com/docs/creating-content/markdown-cheat-sheet\n",
    "****"
   ]
  },
  {
   "cell_type": "markdown",
   "metadata": {},
   "source": [
    "### Methodology\n",
    "\n",
    "My first thought was that since all of the hospitals have different sizes, the right way to think of the dataset was as thousands of different samples of patients rather than one sample of hospitals. I started to work on a bootstrap hypothesis test with this paradigm, but I ran into a problem. I can't figure out how the predicted readmission rate is calculated. As far as I can tell, it uses information that isn't present in the set.\n",
    "\n",
    "\n",
    "So now, treating each hospital as a datapoint (which is what the given analysis did anyway), let's do a hypothesis test for the analysis's conclusion. The hypothesis that we're going to test is whether hospitals with less than 300 discharges per 30-day period have statistically higher readmission rates than those with more than 300.\n",
    "\n",
    "Null hypothesis: There is no difference in readmission rates between hospitals with few and many discharges."
   ]
  },
  {
   "cell_type": "code",
   "execution_count": 9,
   "metadata": {},
   "outputs": [],
   "source": [
    "import scipy.stats as stats\n",
    "from IPython.display import clear_output"
   ]
  },
  {
   "cell_type": "code",
   "execution_count": 10,
   "metadata": {},
   "outputs": [
    {
     "name": "stdout",
     "output_type": "stream",
     "text": [
      "Difference in means:  0.014457168378321783\n",
      "********\n",
      "Bootstrap P value:  0.0\n",
      "Bootstrap 95% confidence interval:  [-0.003, 0.003]\n"
     ]
    }
   ],
   "source": [
    "#separate the two samples I'm going to compare\n",
    "big = clean_hospital_read_df[clean_hospital_read_df['Number of Discharges'] > 300][['Number of Discharges', 'Excess Readmission Ratio']]\n",
    "small = clean_hospital_read_df[clean_hospital_read_df['Number of Discharges'] < 300][['Number of Discharges', 'Excess Readmission Ratio']]\n",
    "\n",
    "#record some sample statistics\n",
    "n1=big.shape[0] #sample size\n",
    "n2=small.shape[0]\n",
    "m1=big['Excess Readmission Ratio'].mean() #sample mean\n",
    "m2=small['Excess Readmission Ratio'].mean()\n",
    "s1=big['Excess Readmission Ratio'].std() #sample standard deviation\n",
    "s2=small['Excess Readmission Ratio'].std()\n",
    "mean_diff=m2-m1 #difference in the two means\n",
    "\n",
    "print('Difference in means: ', mean_diff)\n",
    "\n",
    "#Bootstrap approach using permutation sampling\n",
    "\n",
    "#Set the number of permutations\n",
    "size=10**4\n",
    "\n",
    "#preallocate memory for permutation samples' difference in mean\n",
    "perm_mean_diffs=np.empty(size)\n",
    "\n",
    "#iterate 10,000 times\n",
    "for i in range(size):\n",
    "    #randomly permute the readmission rate column\n",
    "    perm_sample=np.random.permutation(clean_hospital_read_df['Excess Readmission Ratio'])\n",
    "    \n",
    "    #partition into two bootstrap sets, one for big hospitals and one for small, with same size as the originals\n",
    "    big_perm=perm_sample[:n1]\n",
    "    small_perm=perm_sample[n1:]\n",
    "    #calculate proportion difference and save in perm_mean_diffs\n",
    "    perm_mean_diffs[i]=small_perm.mean() - big_perm.mean()\n",
    "\n",
    "#calculate p-value: number of bootstrap samples with proportion difference greater than the original\n",
    "bs_p_val=(perm_mean_diffs >= mean_diff).sum()/size\n",
    "\n",
    "#calculate 95% confidence interval\n",
    "bs_conf_int=list(np.round(np.percentile(perm_mean_diffs,[2.5,97.5]),3))\n",
    "\n",
    "print('********')\n",
    "print('Bootstrap P value: ',bs_p_val)\n",
    "print('Bootstrap 95% confidence interval: ',bs_conf_int)\n"
   ]
  },
  {
   "cell_type": "markdown",
   "metadata": {},
   "source": [
    "### Conclusion\n",
    "\n",
    "The sample is in fact very convincing that we can reject the null hypothesis and is evidence that hospitals with less discharges have higher readmission rates.\n",
    "\n",
    "As far as statistical significance versus practical significance, the main consideration here is that these numbers represent real people's lives and healthiness. So even if the test wants to ignore outliers, it may still be worth recommending policy that helps those outliers. In this case, though, we still recommend that smaller hospitals do more to give quality of care, so the practical significance does not affect the recommendation.\n",
    "\n",
    "*****************\n",
    "\n",
    "In order to make a plot that better shows the distribution of excess readmission rates, I want to use a violinplot from the seaborn package (at first I was going to use a swarmplot but there's too many values). As you can see in the plot below, this shows that the primary difference is in the outliers, highlighting that the small hospitals mostly have outliers above 1."
   ]
  },
  {
   "cell_type": "code",
   "execution_count": 11,
   "metadata": {},
   "outputs": [],
   "source": [
    "import seaborn as sns"
   ]
  },
  {
   "cell_type": "code",
   "execution_count": 12,
   "metadata": {},
   "outputs": [],
   "source": [
    "#create a categorical variable in the dataset describing size of the hospital\n",
    "small = (clean_hospital_read_df['Number of Discharges'] < 300)\n",
    "clean_hospital_read_df['Size']=pd.Categorical(np.where(small,'< 300','>= 300'))"
   ]
  },
  {
   "cell_type": "code",
   "execution_count": 13,
   "metadata": {},
   "outputs": [
    {
     "name": "stderr",
     "output_type": "stream",
     "text": [
      "C:\\Users\\Tim\\Anaconda3\\lib\\site-packages\\scipy\\stats\\stats.py:1713: FutureWarning: Using a non-tuple sequence for multidimensional indexing is deprecated; use `arr[tuple(seq)]` instead of `arr[seq]`. In the future this will be interpreted as an array index, `arr[np.array(seq)]`, which will result either in an error or a different result.\n",
      "  return np.add.reduce(sorted[indexer] * weights, axis=axis) / sumval\n"
     ]
    },
    {
     "data": {
      "image/png": "[encoded data removed]",
      "text/plain": [
       "<Figure size 432x288 with 1 Axes>"
      ]
     },
     "metadata": {
      "needs_background": "light"
     },
     "output_type": "display_data"
    }
   ],
   "source": [
    "sns.violinplot(x='Size',y='Excess Readmission Ratio',data=clean_hospital_read_df)\n",
    "plt.title('Small vs Large Hospital Excess Readmission Rates')\n",
    "plt.xlabel('Size in Number of Discharges')\n",
    "plt.show()"
   ]
  },
  {
   "cell_type": "code",
   "execution_count": null,
   "metadata": {},
   "outputs": [],
   "source": []
  },
  {
   "cell_type": "code",
   "execution_count": null,
   "metadata": {},
   "outputs": [],
   "source": []
  },
  {
   "cell_type": "code",
   "execution_count": null,
   "metadata": {},
   "outputs": [],
   "source": []
  }
 ],
 "metadata": {
  "anaconda-cloud": {},
  "kernelspec": {
   "display_name": "Python 3",
   "language": "python",
   "name": "python3"
  },
  "language_info": {
   "codemirror_mode": {
    "name": "ipython",
    "version": 3
   },
   "file_extension": ".py",
   "mimetype": "text/x-python",
   "name": "python",
   "nbconvert_exporter": "python",
   "pygments_lexer": "ipython3",
   "version": "3.7.1"
  }
 },
 "nbformat": 4,
 "nbformat_minor": 1
}
