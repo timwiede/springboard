{
 "cells": [
  {
   "cell_type": "markdown",
   "metadata": {},
   "source": [
    "# Examining Racial Discrimination in the US Job Market\n",
    "\n",
    "### Background\n",
    "Racial discrimination continues to be pervasive in cultures throughout the world. Researchers examined the level of racial discrimination in the United States labor market by randomly assigning identical résumés to black-sounding or white-sounding names and observing the impact on requests for interviews from employers.\n",
    "\n",
    "### Data\n",
    "In the dataset provided, each row represents a resume. The 'race' column has two values, 'b' and 'w', indicating black-sounding and white-sounding. The column 'call' has two values, 1 and 0, indicating whether the resume received a call from employers or not.\n",
    "\n",
    "Note that the 'b' and 'w' values in race are assigned randomly to the resumes when presented to the employer."
   ]
  },
  {
   "cell_type": "markdown",
   "metadata": {},
   "source": [
    "### Exercises\n",
    "You will perform a statistical analysis to establish whether race has a significant impact on the rate of callbacks for resumes.\n",
    "\n",
    "Answer the following questions **in this notebook below and submit to your Github account**. \n",
    "\n",
    "   1. What test is appropriate for this problem? Does CLT apply?\n",
    "   2. What are the null and alternate hypotheses?\n",
    "   3. Compute margin of error, confidence interval, and p-value. Try using both the bootstrapping and the frequentist statistical approaches.\n",
    "   4. Write a story describing the statistical significance in the context or the original problem.\n",
    "   5. Does your analysis mean that race/name is the most important factor in callback success? Why or why not? If not, how would you amend your analysis?\n",
    "\n",
    "You can include written notes in notebook cells using Markdown: \n",
    "   - In the control panel at the top, choose Cell > Cell Type > Markdown\n",
    "   - Markdown syntax: http://nestacms.com/docs/creating-content/markdown-cheat-sheet\n",
    "\n",
    "#### Resources\n",
    "+ Experiment information and data source: http://www.povertyactionlab.org/evaluation/discrimination-job-market-united-states\n",
    "+ Scipy statistical methods: http://docs.scipy.org/doc/scipy/reference/stats.html \n",
    "+ Markdown syntax: http://nestacms.com/docs/creating-content/markdown-cheat-sheet\n",
    "+ Formulas for the Bernoulli distribution: https://en.wikipedia.org/wiki/Bernoulli_distribution"
   ]
  },
  {
   "cell_type": "code",
   "execution_count": 1,
   "metadata": {},
   "outputs": [],
   "source": [
    "import pandas as pd\n",
    "import numpy as np\n",
    "from scipy import stats"
   ]
  },
  {
   "cell_type": "code",
   "execution_count": 2,
   "metadata": {},
   "outputs": [],
   "source": [
    "data = pd.io.stata.read_stata('data/us_job_market_discrimination.dta')"
   ]
  },
  {
   "cell_type": "code",
   "execution_count": 3,
   "metadata": {},
   "outputs": [
    {
     "data": {
      "text/plain": [
       "157.0"
      ]
     },
     "execution_count": 3,
     "metadata": {},
     "output_type": "execute_result"
    }
   ],
   "source": [
    "# number of callbacks for black-sounding names\n",
    "sum(data[data.race=='b'].call)"
   ]
  },
  {
   "cell_type": "code",
   "execution_count": 4,
   "metadata": {},
   "outputs": [
    {
     "data": {
      "text/html": [
       "<div>\n",
       "<style scoped>\n",
       "    .dataframe tbody tr th:only-of-type {\n",
       "        vertical-align: middle;\n",
       "    }\n",
       "\n",
       "    .dataframe tbody tr th {\n",
       "        vertical-align: top;\n",
       "    }\n",
       "\n",
       "    .dataframe thead th {\n",
       "        text-align: right;\n",
       "    }\n",
       "</style>\n",
       "<table border=\"1\" class=\"dataframe\">\n",
       "  <thead>\n",
       "    <tr style=\"text-align: right;\">\n",
       "      <th></th>\n",
       "      <th>race</th>\n",
       "      <th>call</th>\n",
       "    </tr>\n",
       "  </thead>\n",
       "  <tbody>\n",
       "    <tr>\n",
       "      <th>0</th>\n",
       "      <td>w</td>\n",
       "      <td>0.0</td>\n",
       "    </tr>\n",
       "    <tr>\n",
       "      <th>1</th>\n",
       "      <td>w</td>\n",
       "      <td>0.0</td>\n",
       "    </tr>\n",
       "    <tr>\n",
       "      <th>2</th>\n",
       "      <td>b</td>\n",
       "      <td>0.0</td>\n",
       "    </tr>\n",
       "    <tr>\n",
       "      <th>3</th>\n",
       "      <td>b</td>\n",
       "      <td>0.0</td>\n",
       "    </tr>\n",
       "    <tr>\n",
       "      <th>4</th>\n",
       "      <td>w</td>\n",
       "      <td>0.0</td>\n",
       "    </tr>\n",
       "  </tbody>\n",
       "</table>\n",
       "</div>"
      ],
      "text/plain": [
       "  race  call\n",
       "0    w   0.0\n",
       "1    w   0.0\n",
       "2    b   0.0\n",
       "3    b   0.0\n",
       "4    w   0.0"
      ]
     },
     "execution_count": 4,
     "metadata": {},
     "output_type": "execute_result"
    }
   ],
   "source": [
    "data[['race','call']].head()"
   ]
  },
  {
   "cell_type": "code",
   "execution_count": 7,
   "metadata": {},
   "outputs": [
    {
     "name": "stdout",
     "output_type": "stream",
     "text": [
      "(4870, 65) (2435, 2) (2435, 2)\n",
      "235.0 157.0\n"
     ]
    }
   ],
   "source": [
    "w = data[data.race=='w'][['race','call']]\n",
    "b = data[data.race=='b'][['race','call']]\n",
    "\n",
    "print(data.shape,w.shape,b.shape)\n",
    "print(w.call.sum(),b.call.sum())"
   ]
  },
  {
   "cell_type": "markdown",
   "metadata": {},
   "source": [
    "### 1. What test is appropriate for this problem? Does CLT apply?\n",
    "\n",
    "This problem requires a hypothesis test for the difference in proportions between two samples. The samples are large enough for the CLT to apply."
   ]
  },
  {
   "cell_type": "markdown",
   "metadata": {},
   "source": [
    "### 2. What are the null and alternate hypotheses?\n",
    "\n",
    "We'll use the null hypothesis that there is no difference in proportion between the two populations (i.e. there is no racial discrimination here). And the alternative hypothesis is that the white-sounding names have a higher callback rate than black sounding names."
   ]
  },
  {
   "cell_type": "markdown",
   "metadata": {
    "collapsed": true
   },
   "source": [
    "### 3. Compute margin of error, confidence interval, and p-value. Try using both the bootstrapping and the frequentist statistical approaches."
   ]
  },
  {
   "cell_type": "code",
   "execution_count": 28,
   "metadata": {},
   "outputs": [
    {
     "name": "stdout",
     "output_type": "stream",
     "text": [
      "Sample Proportion Difference:  0.032032854209445585\n",
      "Margin of Error:  0.007796894036170456\n",
      "********\n",
      "Bootstrap P value:  0.0\n",
      "Bootstrap 95% confidence interval:  [-0.015, 0.016]\n",
      "********\n",
      "Frequentist P value:  1.931282603761311e-05\n",
      "Frequentist 95% confidence interval:  [-0.015  0.015]\n"
     ]
    }
   ],
   "source": [
    "#assign sample sizes and proportions to variables\n",
    "n1=w.shape[0]\n",
    "n2=b.shape[0]\n",
    "p1=w.call.sum()/n1\n",
    "p2=b.call.sum()/n2\n",
    "prop_diff=p1-p2\n",
    "\n",
    "#calculate the margin of error of the pooled proportion from the null proportion 0.5\n",
    "pool_p=(p1*n1+p2*n2)/(n1+n2)\n",
    "margin_of_error=np.sqrt(pool_p*(1-pool_p)*(n1+n2)/(n1*n2))\n",
    "\n",
    "print('Sample Proportion Difference: ',prop_diff)\n",
    "print('Margin of Error: ', margin_of_error)\n",
    "\n",
    "#Bootstrap approach using permutation sampling\n",
    "\n",
    "#Set the number of permutations\n",
    "size=10**4\n",
    "\n",
    "#preallocate memory for permutation samples' difference in proportion\n",
    "perm_prop_diffs=np.empty(size)\n",
    "\n",
    "#iterate 10,000 times\n",
    "for i in range(size):\n",
    "    #randomly permute the call column\n",
    "    perm_sample=np.random.permutation(data.call)\n",
    "    \n",
    "    #partition into two bootstrap sets, one for w and one for b, with same size as the originals\n",
    "    w_perm=perm_sample[:n1]\n",
    "    b_perm=perm_sample[n1:]\n",
    "    #calculate proportion difference and save in perm_prop_diffs\n",
    "    perm_prop_diffs[i]=w_perm.sum()/n1-b_perm.sum()/n2\n",
    "\n",
    "#calculate p-value: number of bootstrap samples with proportion difference greater than the original\n",
    "bs_p_val=(perm_prop_diffs >= (prop_diff) ).sum()/size\n",
    "\n",
    "#calculate 95% confidence interval\n",
    "bs_conf_int=list(np.round(np.percentile(perm_prop_diffs,[2.5,97.5]),3))\n",
    "\n",
    "print('********')\n",
    "print('Bootstrap P value: ',bs_p_val)\n",
    "print('Bootstrap 95% confidence interval: ',bs_conf_int)\n",
    "\n",
    "#Frequentist approach using a z test on proportion difference\n",
    "\n",
    "#save the value for standard deviation of a two-sample proportion test to test_sd\n",
    "test_sd=np.sqrt(p1*(1-p1)/n1+p2*(1-p2)/n2)\n",
    "\n",
    "#calculate the test statistic. a bit simpler because the the mean of the null hypothesis distribution is 0\n",
    "z_score=prop_diff/test_sd\n",
    "\n",
    "#find the p value of the test statistic using stats.norm.sf\n",
    "p_val=stats.norm.sf(z_score)\n",
    "\n",
    "#calculate frequentist confidence interval using stats.norm.ppf\n",
    "conf_int=np.round(list(stats.norm.ppf([0.025,.975])*test_sd),3)\n",
    "\n",
    "print('********')\n",
    "print('Frequentist P value: ',p_val)\n",
    "print('Frequentist 95% confidence interval: ',conf_int)"
   ]
  },
  {
   "cell_type": "markdown",
   "metadata": {},
   "source": [
    "### 4. Write a story describing the statistical significance in the context or the original problem.\n",
    "\n",
    "I have tested the statistical significance of the difference in proportion of the two samples using two methods: bootstrap permutation and a classical two-sample z test.\n",
    "\n",
    "Both methods yielded near-identical results. With P-values so close to zero, we can reject the null hypothesis that there is no statistical difference in the number of callbacks received by resumes with white-sounding names versus those with black-sounding names. This sample is very convincing that there is racial discrimination against black people, at least for the types of jobs tested in the study."
   ]
  },
  {
   "cell_type": "markdown",
   "metadata": {
    "collapsed": true
   },
   "source": [
    "### 5. Does your analysis mean that race/name is the most important factor in callback success? Why or why not? If not, how would you amend your analysis?\n",
    "\n",
    "Absolutely not. It could be, but we haven't tested any other factors. To look at other factors, I would calculate the coorelation coefficient between the call column and each other column."
   ]
  }
 ],
 "metadata": {
  "kernelspec": {
   "display_name": "Python 3",
   "language": "python",
   "name": "python3"
  },
  "language_info": {
   "codemirror_mode": {
    "name": "ipython",
    "version": 3
   },
   "file_extension": ".py",
   "mimetype": "text/x-python",
   "name": "python",
   "nbconvert_exporter": "python",
   "pygments_lexer": "ipython3",
   "version": "3.7.1"
  }
 },
 "nbformat": 4,
 "nbformat_minor": 1
}
