{
 "cells": [
  {
   "cell_type": "markdown",
   "metadata": {},
   "source": [
    "# What is the True Normal Human Body Temperature? \n",
    "\n",
    "#### Background\n",
    "\n",
    "The mean normal body temperature was held to be 37$^{\\circ}$C or 98.6$^{\\circ}$F for more than 120 years since it was first conceptualized and reported by Carl Wunderlich in a famous 1868 book. But, is this value statistically correct?"
   ]
  },
  {
   "cell_type": "markdown",
   "metadata": {},
   "source": [
    "<h3>Exercises</h3>\n",
    "\n",
    "<p>In this exercise, you will analyze a dataset of human body temperatures and employ the concepts of hypothesis testing, confidence intervals, and statistical significance.</p>\n",
    "\n",
    "<p>Answer the following questions <b>in this notebook below and submit to your Github account</b>.</p> \n",
    "\n",
    "<ol>\n",
    "<li>  Is the distribution of body temperatures normal? \n",
    "    <ul>\n",
    "    <li> Although this is not a requirement for the Central Limit Theorem to hold (read the introduction on Wikipedia's page about the CLT carefully: https://en.wikipedia.org/wiki/Central_limit_theorem), it gives us some peace of mind that the population may also be normally distributed if we assume that this sample is representative of the population.\n",
    "    <li> Think about the way you're going to check for the normality of the distribution. Graphical methods are usually used first, but there are also other ways: https://en.wikipedia.org/wiki/Normality_test\n",
    "    </ul>\n",
    "<li>  Is the sample size large? Are the observations independent?\n",
    "    <ul>\n",
    "    <li> Remember that this is a condition for the Central Limit Theorem, and hence the statistical tests we are using, to apply.\n",
    "    </ul>\n",
    "<li>  Is the true population mean really 98.6 degrees F?\n",
    "    <ul>\n",
    "    <li> First, try a bootstrap hypothesis test.\n",
    "    <li> Now, let's try frequentist statistical testing. Would you use a one-sample or two-sample test? Why?\n",
    "    <li> In this situation, is it appropriate to use the $t$ or $z$ statistic? \n",
    "    <li> Now try using the other test. How is the result be different? Why?\n",
    "    </ul>\n",
    "<li>  Draw a small sample of size 10 from the data and repeat both frequentist tests. \n",
    "    <ul>\n",
    "    <li> Which one is the correct one to use? \n",
    "    <li> What do you notice? What does this tell you about the difference in application of the $t$ and $z$ statistic?\n",
    "    </ul>\n",
    "<li>  At what temperature should we consider someone's temperature to be \"abnormal\"?\n",
    "    <ul>\n",
    "    <li> As in the previous example, try calculating everything using the boostrap approach, as well as the frequentist approach.\n",
    "    <li> Start by computing the margin of error and confidence interval. When calculating the confidence interval, keep in mind that you should use the appropriate formula for one draw, and not N draws.\n",
    "    </ul>\n",
    "<li>  Is there a significant difference between males and females in normal temperature?\n",
    "    <ul>\n",
    "    <li> What testing approach did you use and why?\n",
    "    <li> Write a story with your conclusion in the context of the original problem.\n",
    "    </ul>\n",
    "</ol>\n",
    "\n",
    "You can include written notes in notebook cells using Markdown: \n",
    "   - In the control panel at the top, choose Cell > Cell Type > Markdown\n",
    "   - Markdown syntax: http://nestacms.com/docs/creating-content/markdown-cheat-sheet\n",
    "\n",
    "#### Resources\n",
    "\n",
    "+ Information and data sources: http://www.amstat.org/publications/jse/datasets/normtemp.txt, http://www.amstat.org/publications/jse/jse_data_archive.htm\n",
    "+ Markdown syntax: http://nestacms.com/docs/creating-content/markdown-cheat-sheet\n",
    "\n",
    "****"
   ]
  },
  {
   "cell_type": "code",
   "execution_count": 43,
   "metadata": {},
   "outputs": [
    {
     "name": "stdout",
     "output_type": "stream",
     "text": [
      "(130, 3)\n"
     ]
    },
    {
     "data": {
      "text/html": [
       "<div>\n",
       "<style scoped>\n",
       "    .dataframe tbody tr th:only-of-type {\n",
       "        vertical-align: middle;\n",
       "    }\n",
       "\n",
       "    .dataframe tbody tr th {\n",
       "        vertical-align: top;\n",
       "    }\n",
       "\n",
       "    .dataframe thead th {\n",
       "        text-align: right;\n",
       "    }\n",
       "</style>\n",
       "<table border=\"1\" class=\"dataframe\">\n",
       "  <thead>\n",
       "    <tr style=\"text-align: right;\">\n",
       "      <th></th>\n",
       "      <th>temperature</th>\n",
       "      <th>gender</th>\n",
       "      <th>heart_rate</th>\n",
       "    </tr>\n",
       "  </thead>\n",
       "  <tbody>\n",
       "    <tr>\n",
       "      <th>0</th>\n",
       "      <td>99.3</td>\n",
       "      <td>F</td>\n",
       "      <td>68.0</td>\n",
       "    </tr>\n",
       "    <tr>\n",
       "      <th>1</th>\n",
       "      <td>98.4</td>\n",
       "      <td>F</td>\n",
       "      <td>81.0</td>\n",
       "    </tr>\n",
       "    <tr>\n",
       "      <th>2</th>\n",
       "      <td>97.8</td>\n",
       "      <td>M</td>\n",
       "      <td>73.0</td>\n",
       "    </tr>\n",
       "    <tr>\n",
       "      <th>3</th>\n",
       "      <td>99.2</td>\n",
       "      <td>F</td>\n",
       "      <td>66.0</td>\n",
       "    </tr>\n",
       "    <tr>\n",
       "      <th>4</th>\n",
       "      <td>98.0</td>\n",
       "      <td>F</td>\n",
       "      <td>73.0</td>\n",
       "    </tr>\n",
       "  </tbody>\n",
       "</table>\n",
       "</div>"
      ],
      "text/plain": [
       "   temperature gender  heart_rate\n",
       "0         99.3      F        68.0\n",
       "1         98.4      F        81.0\n",
       "2         97.8      M        73.0\n",
       "3         99.2      F        66.0\n",
       "4         98.0      F        73.0"
      ]
     },
     "execution_count": 43,
     "metadata": {},
     "output_type": "execute_result"
    }
   ],
   "source": [
    "import pandas as pd\n",
    "import matplotlib.pyplot as plt\n",
    "import numpy as np\n",
    "from scipy import stats\n",
    "\n",
    "df = pd.read_csv('data/human_body_temperature.csv')\n",
    "\n",
    "#start by taking a quick look at the data\n",
    "print(df.shape)\n",
    "df.head()"
   ]
  },
  {
   "cell_type": "markdown",
   "metadata": {},
   "source": [
    "### 1. Is the distribution normal?"
   ]
  },
  {
   "cell_type": "markdown",
   "metadata": {},
   "source": [
    "A quick histogram will give us a decent look at how normal it is."
   ]
  },
  {
   "cell_type": "code",
   "execution_count": 5,
   "metadata": {},
   "outputs": [
    {
     "data": {
      "text/plain": [
       "<matplotlib.axes._subplots.AxesSubplot at 0x23c768bf668>"
      ]
     },
     "execution_count": 5,
     "metadata": {},
     "output_type": "execute_result"
    },
    {
     "data": {
      "image/png": "[encoded data removed]",
      "text/plain": [
       "<Figure size 432x288 with 1 Axes>"
      ]
     },
     "metadata": {
      "needs_background": "light"
     },
     "output_type": "display_data"
    }
   ],
   "source": [
    "#plot a quick histogram\n",
    "df['temperature'].hist()"
   ]
  },
  {
   "cell_type": "markdown",
   "metadata": {},
   "source": [
    "Definitely normal-ish. Kinda hard to tell though with the big drop off around 99.5. I want to visually compare the cumulative histogram with a normal cdf to be more precise."
   ]
  },
  {
   "cell_type": "code",
   "execution_count": 40,
   "metadata": {},
   "outputs": [
    {
     "data": {
      "image/png": "[encoded data removed]",
      "text/plain": [
       "<Figure size 432x288 with 1 Axes>"
      ]
     },
     "metadata": {
      "needs_background": "light"
     },
     "output_type": "display_data"
    }
   ],
   "source": [
    "#use cumulative=True to plot a cumulative histogram\n",
    "n,bins,patches=plt.hist(df.temperature,bins=50,cumulative=True,histtype='step',\n",
    "                        label='temperature',density=True,color='r',linewidth=1.25)\n",
    "\n",
    "#plot a normal cdf with the same mean, standard deviation\n",
    "#code taken from https://matplotlib.org/3.1.0/gallery/statistics/histogram_cumulative.html\n",
    "m=df.temperature.mean()\n",
    "s=df.temperature.std()\n",
    "y = ((1 / (np.sqrt(2 * np.pi) * s)) *\n",
    "     np.exp(-0.5 * (1 / s * (bins - m))**2))\n",
    "y = y.cumsum()\n",
    "y /= y[-1]\n",
    "\n",
    "plt.plot(bins, y, 'k--', linewidth=1.5, label='Theoretical')\n",
    "plt.legend()\n",
    "plt.xlabel('Temperature (Fahrenheit)')\n",
    "plt.ylabel('Cumulative Probability')\n",
    "\n",
    "plt.show()"
   ]
  },
  {
   "cell_type": "markdown",
   "metadata": {},
   "source": [
    "I could run more comparisons, but I definitely feel comfortable saying this is a normal distribution now."
   ]
  },
  {
   "cell_type": "markdown",
   "metadata": {},
   "source": [
    "### 2. Is the sample size large? Are the observations independent?"
   ]
  },
  {
   "cell_type": "markdown",
   "metadata": {},
   "source": [
    "130 data points is more than 30, so the central limit theorem is satisfied. The fact that the data come from a medical journal suggests that the observations are independent."
   ]
  },
  {
   "cell_type": "markdown",
   "metadata": {},
   "source": [
    "### 3. Is the true population mean really 98.6 degrees F?"
   ]
  },
  {
   "cell_type": "markdown",
   "metadata": {},
   "source": [
    "Bootstrap method first. \n",
    "\n",
    "I'm taking 10,000 bootstrap samples and recording the mean of each sample."
   ]
  },
  {
   "cell_type": "code",
   "execution_count": 35,
   "metadata": {},
   "outputs": [],
   "source": [
    "#size is the number of samples\n",
    "size=10**4\n",
    "\n",
    "#pre-allocating memory for the sample means to save on computation speed\n",
    "bootstrap_means=np.empty(size)\n",
    "\n",
    "#perform 10,000 iterations\n",
    "for i in range(size):\n",
    "    #draw a new bootstrap sample with the same size as the actual sample\n",
    "    bootstrap_samples=df.temperature.loc[np.random.randint(low=0,high=129,size=130)]\n",
    "    \n",
    "    #record the bootstrap sample mean\n",
    "    bootstrap_means[i]=bootstrap_samples.mean()"
   ]
  },
  {
   "cell_type": "markdown",
   "metadata": {},
   "source": [
    "Now that I have a set of sample means, I can calculate a p-value by counting the number of means greater than or equal to the null hypothesis mean of 98.6."
   ]
  },
  {
   "cell_type": "code",
   "execution_count": 39,
   "metadata": {},
   "outputs": [
    {
     "data": {
      "text/plain": [
       "0.0"
      ]
     },
     "execution_count": 39,
     "metadata": {},
     "output_type": "execute_result"
    }
   ],
   "source": [
    "#calculating the p-value by finding the number of means greater than the null hypothesis value\n",
    "(bootstrap_means >= 98.6).sum()/size"
   ]
  },
  {
   "cell_type": "markdown",
   "metadata": {},
   "source": [
    "Ok, that means exactly 0 of the bootstrap means are greater than or equal to 98.6. Pretty convincing evidence to reject the null hypothesis.\n",
    "\n",
    "Now let's use a frequentist technique. We have to use a t test since we do not know the population standard deviation. scipy.stats has a nice function to perform the test painlessly: ttest_1samp."
   ]
  },
  {
   "cell_type": "code",
   "execution_count": 51,
   "metadata": {},
   "outputs": [
    {
     "data": {
      "text/plain": [
       "2.4106320415561276e-07"
      ]
     },
     "execution_count": 51,
     "metadata": {},
     "output_type": "execute_result"
    }
   ],
   "source": [
    "#ttest_1samp returns a t score and a p value that we can unpack\n",
    "t_score,p_val=stats.ttest_1samp(df.temperature,98.6)\n",
    "#display p value\n",
    "p_val"
   ]
  },
  {
   "cell_type": "markdown",
   "metadata": {},
   "source": [
    "Very close to zero, which is not surprising given the bootstrap result above.\n",
    "\n",
    "Now, wait a minute... the problem is asking me to now use the other test? I can't do a z test without a population standard deviation. Do they want me just try it anyway using the sample standard deviation? Lol, ok."
   ]
  },
  {
   "cell_type": "code",
   "execution_count": 94,
   "metadata": {},
   "outputs": [
    {
     "name": "stdout",
     "output_type": "stream",
     "text": [
      "-5.454823292364079\n"
     ]
    },
    {
     "data": {
      "text/plain": [
       "2.45107850705669e-08"
      ]
     },
     "execution_count": 94,
     "metadata": {},
     "output_type": "execute_result"
    }
   ],
   "source": [
    "#calculate fake z score (using s as the pop. st. dev.)\n",
    "fake_z_score=(m-98.6)/(s/np.sqrt(130))\n",
    "#print it\n",
    "print(fake_z_score)\n",
    "#use the normal survival function (1-cdf) to calculate the probabilty of a temperature in the tail\n",
    "stats.norm.sf(abs(fake_z_score))"
   ]
  },
  {
   "cell_type": "markdown",
   "metadata": {},
   "source": [
    "Still very close to zero, so it didn't really matter here, but the t test is the correct one to use, since we don't know sigma."
   ]
  },
  {
   "cell_type": "markdown",
   "metadata": {},
   "source": [
    "### 4. Draw a small sample of size 10 from the data and repeat both frequentist tests."
   ]
  },
  {
   "cell_type": "markdown",
   "metadata": {},
   "source": [
    "Ok looks we're doing the same thing as above: t test, then fake z test, but now with a sample of only 10 values.\n",
    "\n",
    "Start by randomly picking ten temperatures."
   ]
  },
  {
   "cell_type": "code",
   "execution_count": 98,
   "metadata": {},
   "outputs": [
    {
     "data": {
      "text/plain": [
       "97.88999999999999"
      ]
     },
     "execution_count": 98,
     "metadata": {},
     "output_type": "execute_result"
    }
   ],
   "source": [
    "#use np.random.randint to pick 10 random index values\n",
    "sample_10=df.temperature.loc[np.random.randint(low=0,high=129,size=10)]\n",
    "#print sample mean\n",
    "sample_10.mean()"
   ]
  },
  {
   "cell_type": "code",
   "execution_count": 99,
   "metadata": {},
   "outputs": [
    {
     "data": {
      "text/plain": [
       "0.007054356614660916"
      ]
     },
     "execution_count": 99,
     "metadata": {},
     "output_type": "execute_result"
    }
   ],
   "source": [
    "#ttest_1samp returns a t score and a p value that we can unpack\n",
    "t_score_2,p_val_2=stats.ttest_1samp(sample_10,98.6)\n",
    "#display p value\n",
    "p_val_2"
   ]
  },
  {
   "cell_type": "code",
   "execution_count": 100,
   "metadata": {},
   "outputs": [
    {
     "data": {
      "text/plain": [
       "1.2084780079848769e-28"
      ]
     },
     "execution_count": 100,
     "metadata": {},
     "output_type": "execute_result"
    }
   ],
   "source": [
    "#calculate fake z score (using s as the pop. st. dev.)\n",
    "fake_z_score=(sample_10.mean()-98.6)/(s/np.sqrt(130))\n",
    "#use the normal survival function (1-cdf) to calculate the probabilty of a temperature in the tail\n",
    "stats.norm.sf(abs(fake_z_score))"
   ]
  },
  {
   "cell_type": "markdown",
   "metadata": {},
   "source": [
    "So, we still reject the null hypothesis with high confidence in both cases. However, if I rerun the above the cells multiple times, there is a lot of variance in the p values. This is understandable, since the means of such small samples are going to be all over the place.\n",
    "\n",
    "The t test takes this variance into account better for small samples and it's even more important to use it here rather than the fake z test."
   ]
  },
  {
   "cell_type": "markdown",
   "metadata": {},
   "source": [
    "### 5. At what temperature should we consider someone's temperature to be \"abnormal\"?"
   ]
  },
  {
   "cell_type": "markdown",
   "metadata": {},
   "source": [
    "First off, I'm not sure exactly what the problem means by \"abnormal\". I'm going to assume it means within a 95% interval centered on the mean.\n",
    "\n",
    "Is the problem asking me to calculate the confidence interval from my mean hypothesis tests?"
   ]
  },
  {
   "cell_type": "code",
   "execution_count": 102,
   "metadata": {},
   "outputs": [
    {
     "data": {
      "text/plain": [
       "array([98.12076923, 98.36769231])"
      ]
     },
     "execution_count": 102,
     "metadata": {},
     "output_type": "execute_result"
    }
   ],
   "source": [
    "# 95% confidence interval for the bootstrap test using np.percentile\n",
    "np.percentile(bootstrap_means,[2.5,97.5])"
   ]
  },
  {
   "cell_type": "markdown",
   "metadata": {},
   "source": [
    "This doesn't really make sense as an answer to the question, though. This confidence interval represents the values between which 95% of the bootstrap sample means reside. But we're just asking about one person's temperature and if it's normal or not, not a whole sample of 130 people.\n",
    "\n",
    "One way I could do this using a bootstrap method is to calculate the 2.5th and 97.5th percentiles of a bunch of bootstrap samples, then take the mean of each."
   ]
  },
  {
   "cell_type": "code",
   "execution_count": 66,
   "metadata": {},
   "outputs": [
    {
     "name": "stdout",
     "output_type": "stream",
     "text": [
      "96.7650045 99.58796025000001\n"
     ]
    }
   ],
   "source": [
    "#preallocate memory to boost speed\n",
    "#bootstrap_95_percs has two columns, one for 2.5th percentiles and one for 97.5th percentiles\n",
    "bootstrap_95_percs=np.empty([size,2])\n",
    "\n",
    "#perform 10,000 iterations\n",
    "for i in range(size):\n",
    "    #draw a new bootstrap sample with the same size as the actual sample    \n",
    "    bootstrap_samples=df.temperature.loc[np.random.randint(low=0,high=129,size=130)]\n",
    "\n",
    "    #calculate and record 2.5th and 97.5th percentiles\n",
    "    bootstrap_95_percs[i,:]=np.percentile(bootstrap_samples,[2.5,97.5])\n",
    "\n",
    "#print out percentile means\n",
    "print(bootstrap_95_percs[:,0].mean(),bootstrap_95_percs[:,1].mean())"
   ]
  },
  {
   "cell_type": "markdown",
   "metadata": {},
   "source": [
    "In order to use a frequentist approach, we can calculate the percentile t scores using scipy.stats.ppf. Then invert the t scores to convert to temperatures by multiplying by the st. dev. and adding the mean."
   ]
  },
  {
   "cell_type": "code",
   "execution_count": 105,
   "metadata": {},
   "outputs": [
    {
     "data": {
      "text/plain": [
       "array([96.79860993, 99.6998516 ])"
      ]
     },
     "execution_count": 105,
     "metadata": {},
     "output_type": "execute_result"
    }
   ],
   "source": [
    "#use stats.t.ppf to get 95% confidence interval t scores, then convert to temperatures\n",
    "stats.t.ppf([0.025,.975],129)*s+m"
   ]
  },
  {
   "cell_type": "markdown",
   "metadata": {},
   "source": [
    "These values are really close to the bootstrap interval endpoints. Therefore, I'll say that abnormal temperatures are less than 96.8 or greater than 99.7 degrees Fahrenheit."
   ]
  },
  {
   "cell_type": "markdown",
   "metadata": {},
   "source": [
    "### 6. Is there a significant difference between males and females in normal temperature?"
   ]
  },
  {
   "cell_type": "markdown",
   "metadata": {},
   "source": [
    "There are many techniques that could be used here, but I want a little more practice with the bootstrap permutation sampling method from the Datacamp course.\n",
    "\n",
    "I'm going to start by partitioning the data by gender."
   ]
  },
  {
   "cell_type": "code",
   "execution_count": 82,
   "metadata": {},
   "outputs": [
    {
     "name": "stdout",
     "output_type": "stream",
     "text": [
      "Male mean:  98.1046153846154 , Female mean:  98.39384615384613\n"
     ]
    }
   ],
   "source": [
    "#filter out all observations with a particular gender.\n",
    "male_temps=df[df.gender=='M'].temperature\n",
    "female_temps=df[df.gender=='F'].temperature\n",
    "\n",
    "#take a quick look at the means\n",
    "print('Male mean: ',male_temps.mean(),', Female mean: ',female_temps.mean())"
   ]
  },
  {
   "cell_type": "markdown",
   "metadata": {},
   "source": [
    "I'm going to do a bootstrap hypothesis test for the difference between the means of female temperatures versus male temperatures. The null hypothesis is that the difference is zero.\n",
    "\n",
    "To calculate bootstrap mean differences, I will randomly permute the 130 values and repartition to build synthetic female and male sets. Then calculate the difference in mean of the two sets."
   ]
  },
  {
   "cell_type": "code",
   "execution_count": 89,
   "metadata": {},
   "outputs": [
    {
     "data": {
      "text/plain": [
       "0.013"
      ]
     },
     "execution_count": 89,
     "metadata": {},
     "output_type": "execute_result"
    }
   ],
   "source": [
    "#calculate the actual mean difference\n",
    "gender_temp_diff=female_temps.mean()-male_temps.mean()\n",
    "\n",
    "size=10**4\n",
    "#record the size of the female set\n",
    "f_size=female_temps.count()\n",
    "\n",
    "#preallocate memory\n",
    "perm_mean_diffs=np.empty(size)\n",
    "\n",
    "#iterate 10,000 times\n",
    "for i in range(size):\n",
    "    #permute dataset\n",
    "    perm_sample=np.random.permutation(df.temperature)\n",
    "    \n",
    "    #partition into two bootstrap sets with same size as the originals\n",
    "    fem_perm=perm_sample[:f_size]\n",
    "    mal_perm=perm_sample[f_size:]\n",
    "    #calculate mean difference\n",
    "    perm_mean_diffs[i]=fem_perm.mean()-mal_perm.mean()\n",
    "\n",
    "#calculate p-value\n",
    "(perm_mean_diffs >= gender_temp_diff).sum()/size"
   ]
  },
  {
   "cell_type": "markdown",
   "metadata": {},
   "source": [
    "With a p-value of 0.013, we can say with more than 95% confidence that we can reject the null hypothesis that there is no difference in female and male temperatures."
   ]
  },
  {
   "cell_type": "code",
   "execution_count": null,
   "metadata": {},
   "outputs": [],
   "source": []
  },
  {
   "cell_type": "code",
   "execution_count": null,
   "metadata": {},
   "outputs": [],
   "source": []
  },
  {
   "cell_type": "code",
   "execution_count": null,
   "metadata": {},
   "outputs": [],
   "source": []
  },
  {
   "cell_type": "code",
   "execution_count": null,
   "metadata": {},
   "outputs": [],
   "source": []
  },
  {
   "cell_type": "code",
   "execution_count": null,
   "metadata": {},
   "outputs": [],
   "source": []
  },
  {
   "cell_type": "code",
   "execution_count": null,
   "metadata": {},
   "outputs": [],
   "source": []
  },
  {
   "cell_type": "code",
   "execution_count": null,
   "metadata": {},
   "outputs": [],
   "source": []
  },
  {
   "cell_type": "code",
   "execution_count": null,
   "metadata": {},
   "outputs": [],
   "source": []
  },
  {
   "cell_type": "code",
   "execution_count": null,
   "metadata": {},
   "outputs": [],
   "source": []
  }
 ],
 "metadata": {
  "kernelspec": {
   "display_name": "Python 3",
   "language": "python",
   "name": "python3"
  },
  "language_info": {
   "codemirror_mode": {
    "name": "ipython",
    "version": 3
   },
   "file_extension": ".py",
   "mimetype": "text/x-python",
   "name": "python",
   "nbconvert_exporter": "python",
   "pygments_lexer": "ipython3",
   "version": "3.7.1"
  }
 },
 "nbformat": 4,
 "nbformat_minor": 1
}
